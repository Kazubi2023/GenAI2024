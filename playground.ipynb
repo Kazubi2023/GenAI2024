{
 "cells": [
  {
   "cell_type": "code",
   "execution_count": 1,
   "metadata": {},
   "outputs": [],
   "source": [
    "from meeting_comprehender import MeetingComprehender"
   ]
  },
  {
   "cell_type": "code",
   "execution_count": 2,
   "metadata": {},
   "outputs": [
    {
     "name": "stdout",
     "output_type": "stream",
     "text": [
      "{'ResponseMetadata': {'RequestId': 'bdee3541-9185-4ba5-976e-977e73921c40', 'HTTPStatusCode': 200, 'HTTPHeaders': {'date': 'Sun, 19 May 2024 21:05:51 GMT', 'content-type': 'application/json', 'content-length': '1399', 'connection': 'keep-alive', 'x-amzn-requestid': 'bdee3541-9185-4ba5-976e-977e73921c40', 'x-amzn-bedrock-invocation-latency': '6687', 'x-amzn-bedrock-output-token-count': '248', 'x-amzn-bedrock-input-token-count': '776'}, 'RetryAttempts': 0}, 'contentType': 'application/json', 'body': <botocore.response.StreamingBody object at 0x10c0f66b0>}\n",
      "Generated SUMMARY for transcript_1.txt.\n",
      "SAVE output to output/summaries/transcript_1.txt\n"
     ]
    }
   ],
   "source": [
    "comprehender = MeetingComprehender()\n",
    "output = comprehender.comprehend()"
   ]
  },
  {
   "cell_type": "code",
   "execution_count": 3,
   "metadata": {},
   "outputs": [
    {
     "data": {
      "text/plain": [
       "{'ResponseMetadata': {'RequestId': 'bdee3541-9185-4ba5-976e-977e73921c40',\n",
       "  'HTTPStatusCode': 200,\n",
       "  'HTTPHeaders': {'date': 'Sun, 19 May 2024 21:05:51 GMT',\n",
       "   'content-type': 'application/json',\n",
       "   'content-length': '1399',\n",
       "   'connection': 'keep-alive',\n",
       "   'x-amzn-requestid': 'bdee3541-9185-4ba5-976e-977e73921c40',\n",
       "   'x-amzn-bedrock-invocation-latency': '6687',\n",
       "   'x-amzn-bedrock-output-token-count': '248',\n",
       "   'x-amzn-bedrock-input-token-count': '776'},\n",
       "  'RetryAttempts': 0},\n",
       " 'contentType': 'application/json',\n",
       " 'body': <botocore.response.StreamingBody at 0x10c0f66b0>}"
      ]
     },
     "execution_count": 3,
     "metadata": {},
     "output_type": "execute_result"
    }
   ],
   "source": [
    "output"
   ]
  },
  {
   "cell_type": "code",
   "execution_count": null,
   "metadata": {},
   "outputs": [],
   "source": []
  }
 ],
 "metadata": {
  "kernelspec": {
   "display_name": ".venv",
   "language": "python",
   "name": "python3"
  },
  "language_info": {
   "codemirror_mode": {
    "name": "ipython",
    "version": 3
   },
   "file_extension": ".py",
   "mimetype": "text/x-python",
   "name": "python",
   "nbconvert_exporter": "python",
   "pygments_lexer": "ipython3",
   "version": "3.12.3"
  }
 },
 "nbformat": 4,
 "nbformat_minor": 2
}
